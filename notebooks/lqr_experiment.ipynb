{
 "cells": [
  {
   "cell_type": "code",
   "execution_count": 2,
   "metadata": {},
   "outputs": [],
   "source": [
    "from typing import Tuple, Dict, Callable, Iterator, Union, Optional, List\n",
    "\n",
    "import os\n",
    "import sys\n",
    "from datetime import date\n",
    "\n",
    "import numpy as np\n",
    "import scipy\n",
    "\n",
    "import torch\n",
    "import botorch\n",
    "import gpytorch\n",
    "\n",
    "import gym\n",
    "import gym_lqr\n",
    "\n",
    "# To import module code.\n",
    "module_path = os.path.abspath(os.path.join('..'))\n",
    "if module_path not in sys.path:\n",
    "    sys.path.append(module_path)\n",
    "    \n",
    "from src.environment_api import EnvironmentObjective, StateNormalizer\n",
    "from src.policy_parameterizations import MLP, discretize\n",
    "from src.loop import loop\n",
    "from src.optimizers import BayesianGradientAscent\n",
    "from src.model import DerivativeExactGPSEModel\n",
    "from src.acquisition_function import optimize_acqf_custom_bo\n",
    "\n",
    "import matplotlib.pyplot as plt\n",
    "%config Completer.use_jedi = False"
   ]
  },
  {
   "cell_type": "markdown",
   "metadata": {},
   "source": [
    "# Run experiments"
   ]
  },
  {
   "cell_type": "code",
   "execution_count": 3,
   "metadata": {},
   "outputs": [
    {
     "name": "stderr",
     "output_type": "stream",
     "text": [
      "[2021-11-24 20:14:50,127] Making new env: lqr-v0\n",
      "/home/sarah/miniconda3/envs/bga/lib/python3.8/site-packages/gym/envs/registration.py:17: PkgResourcesDeprecationWarning: Parameters to load are deprecated.  Call .resolve and .require separately.\n",
      "  result = entry_point.load(False)\n"
     ]
    }
   ],
   "source": [
    "env = gym.make('lqr-v0')\n",
    "mlp = MLP(3,3)\n",
    "len_params = mlp.len_params"
   ]
  },
  {
   "cell_type": "code",
   "execution_count": 4,
   "metadata": {},
   "outputs": [],
   "source": [
    "objective_env = EnvironmentObjective(env=env, \n",
    "                                     policy=mlp, \n",
    "                                     manipulate_state=None, \n",
    "                                     manipulate_reward=lambda r, a, s, d: - torch.log(1-r))"
   ]
  },
  {
   "cell_type": "code",
   "execution_count": null,
   "metadata": {},
   "outputs": [],
   "source": [
    "# Third Optimizer: Custom BO \n",
    "parameters = {}\n",
    "calls = {}\n",
    "for trial in range(100):\n",
    "    print(f'trail {trial+1}')\n",
    "    params, calls_in_iteration = loop(params_init=torch.zeros(1,9),\n",
    "                                      max_iterations=None,\n",
    "                                      max_objective_calls=130,\n",
    "                                      objective=objective_env,\n",
    "                                      Optimizer=BayesianGradientAscent,\n",
    "                                      optimizer_config={'max_samples_per_iteration': 9,\n",
    "                                                        'OptimizerTorch': torch.optim.SGD,\n",
    "                                                        'optimizer_torch_config': {'lr': 1.},\n",
    "                                                        'lr_schedular': {0: 0.15, 3: 0.1, 8: 0.05}, #{0: 0.25, 3: 0.1, 6: 0.05},\n",
    "                                                        'Model': DerivativeExactGPSEModel,\n",
    "                                                        'model_config': {'prior_mean': torch.tensor(0., dtype=torch.float32),\n",
    "                                                                         'ard_num_dims': len_params,\n",
    "                                                                         'N_max': 40,\n",
    "                                                                         'lengthscale_constraint': None,\n",
    "                                                                         'lengthscale_hyperprior': gpytorch.priors.UniformPrior(.01, 0.3),\n",
    "                                                                         'outputscale_constraint': None,\n",
    "                                                                         'outputscale_hyperprior': gpytorch.priors.NormalPrior(20, 5),\n",
    "                                                                         'noise_constraint': None, \n",
    "                                                                         'noise_hyperprior': gpytorch.priors.NormalPrior(2,1)},\n",
    "                                                        'hyperparameter_config': {'optimize_hyperparameters': True,\n",
    "                                                                                  'hypers': {#'covar_module.base_kernel.lengthscale': torch.tensor(.1),\n",
    "                                                                                             #'covar_module.outputscale': torch.tensor(10.),\n",
    "                                                                                             'likelihood.noise': torch.tensor(2.)},\n",
    "                                                                                  'no_noise_optimization': True}, \n",
    "                                                        'optimize_acqf': optimize_acqf_custom_bo, \n",
    "                                                        'optimize_acqf_config': {'q': 1,\n",
    "                                                                                 'num_restarts': 5,\n",
    "                                                                                 'raw_samples': 64},\n",
    "                                                        'bounds': None,\n",
    "                                                        'delta': 0.1,\n",
    "                                                        'epsilon_diff_acq_value': None,\n",
    "                                                        'generate_initial_data': None,\n",
    "                                                        'standard_deviation_scaling': False,\n",
    "                                                        'normalize_gradient': True,\n",
    "                                                        'verbose': False,\n",
    "                                                       },\n",
    "                                      verbose=True)\n",
    "    parameters[trial] = torch.cat(params)\n",
    "    calls[trial] = calls_in_iteration"
   ]
  },
  {
   "cell_type": "code",
   "execution_count": 259,
   "metadata": {},
   "outputs": [],
   "source": [
    "# Save data\n",
    "path_to_experiments = os.path.join('./experiments/lqr/', date.today().strftime(\"%m%d%Y\"))\n",
    "torch.save(parameters, os.path.join(path_to_experiments, 'parameters.pt'))\n",
    "torch.save(calls, os.path.join(path_to_experiments, 'calls.pt'))"
   ]
  },
  {
   "cell_type": "markdown",
   "metadata": {},
   "source": [
    "## Analyze results"
   ]
  },
  {
   "cell_type": "code",
   "execution_count": 5,
   "metadata": {},
   "outputs": [],
   "source": [
    "# Load data\n",
    "path_to_experiments = '../experiments/lqr/10152021/'\n",
    "parameters = torch.load(path_to_experiments + 'parameters.pt')\n",
    "calls = torch.load(path_to_experiments + 'calls.pt')"
   ]
  },
  {
   "cell_type": "code",
   "execution_count": 6,
   "metadata": {},
   "outputs": [],
   "source": [
    "def dlqr(A,B,Q,R):\n",
    "    \"\"\"Solve the discrete time lqr controller.\n",
    "\n",
    "    x[k+1] = A x[k] + B u[k]\n",
    "\n",
    "    cost = sum x[k].T*Q*x[k] + u[k].T*R*u[k]\n",
    "    \"\"\"\n",
    "    # Solves the discrete-time algebraic Riccati equation (DARE).\n",
    "    P = scipy.linalg.solve_discrete_are(A, B, Q, R)\n",
    "\n",
    "    # Compute the LQR gain\n",
    "    K = - np.linalg.inv(R + B.T @ P @ B) @ (B.T @ P @ A)\n",
    "\n",
    "    eigVals, _ = np.linalg.eig(A + B @ K)\n",
    "\n",
    "    return K, P, eigVals"
   ]
  },
  {
   "cell_type": "code",
   "execution_count": 7,
   "metadata": {},
   "outputs": [],
   "source": [
    "def stability_analysis(parameters: Dict[int, torch.tensor], \n",
    "                       A: np.array,\n",
    "                       B: np.array) -> Dict[int, torch.tensor]:\n",
    "    stability = {}\n",
    "    for i, params in parameters.items():\n",
    "        stability_params = torch.zeros(len(calls[i])+1)\n",
    "        for j, param in enumerate(params):\n",
    "            eigVals, _ = np.linalg.eig(A + B @ param.view(3,3).numpy())\n",
    "            if max(np.absolute(eigVals)) < 1:\n",
    "                stability_params[j] = 1\n",
    "        stability[i] = stability_params\n",
    "    return stability"
   ]
  },
  {
   "cell_type": "code",
   "execution_count": 8,
   "metadata": {},
   "outputs": [],
   "source": [
    "def postprocessing_interpolate_x(x: Dict[int, torch.tensor], \n",
    "                                 calls: Dict[int, List], \n",
    "                                 max_calls: int):\n",
    "    runs = list(x.keys())\n",
    "    interpolation = torch.empty((len(runs), max_calls))\n",
    "    for index_run, run in enumerate(runs):\n",
    "        index_x = 0\n",
    "        for num_call in range(max_calls):\n",
    "            if num_call == calls[index_run][index_x]:\n",
    "                index_x += 1\n",
    "            interpolation[index_run][num_call] = x[index_run][index_x]\n",
    "    return interpolation"
   ]
  },
  {
   "cell_type": "code",
   "execution_count": 9,
   "metadata": {},
   "outputs": [],
   "source": [
    "def get_relative_costs(parameters: Dict[int, torch.tensor],\n",
    "                       stabiltiy: Dict[int, torch.tensor],\n",
    "                       A: np.array,\n",
    "                       B: np.array,\n",
    "                       W: np.array,\n",
    "                       R: np.array,\n",
    "                       P: np.array):\n",
    "    relative_costs = {}\n",
    "    for i, params in parameters.items():\n",
    "        relative_cost = torch.empty(params.shape[0])\n",
    "        for j, param in enumerate(params):\n",
    "            if stability[i][j] == 1:\n",
    "                K_hat = param.view(3,3).numpy()\n",
    "                sigma_param_hat = scipy.linalg.solve_discrete_lyapunov((A + B @ K_hat), W)\n",
    "                r_c = np.trace(sigma_param_hat @ (K_hat - K).T @ (R + B.T @ P @ B) @ (K_hat - K)) / np.trace(W @ P)\n",
    "                relative_cost[j] = r_c\n",
    "            else:\n",
    "                relative_cost[j] = np.nan\n",
    "        relative_costs[i] = relative_cost\n",
    "    return relative_costs"
   ]
  },
  {
   "cell_type": "code",
   "execution_count": 10,
   "metadata": {},
   "outputs": [],
   "source": [
    "plt.style.use('seaborn-whitegrid')\n",
    "tex_fonts = {\n",
    "    # Use LaTeX to write all text\n",
    "    \"text.usetex\": True,\n",
    "    \"font.family\": \"serif\",\n",
    "    # Use 10pt font in plots, to match 10pt font in document\n",
    "    \"axes.labelsize\": 9,\n",
    "    \"font.size\": 9,\n",
    "    # Make the legend/label fonts a little smaller\n",
    "    \"legend.fontsize\": 8,\n",
    "    \"xtick.labelsize\": 8,\n",
    "    \"ytick.labelsize\": 8\n",
    "}\n",
    "\n",
    "plt.rcParams.update(tex_fonts)"
   ]
  },
  {
   "cell_type": "code",
   "execution_count": 11,
   "metadata": {},
   "outputs": [],
   "source": [
    "def plot_frequency_of_stability(interpolated_stability, path_savefig: Optional = None):\n",
    "    fig = plt.figure(figsize=(2.2, 1.2))\n",
    "    plt.plot(torch.linspace(0,40000,13), \n",
    "             torch.mean(interpolate_stability[:, ::10], axis=0), \n",
    "             marker='>', markersize=3, linestyle='dashed', label='GIBO',markevery=2)\n",
    "    plt.plot(10000, 1,'o', color='black', label='LSPI', markersize=2,markevery=50)\n",
    "    plt.plot(29000, 1,'x', color='red', label='ARS', markersize=3,markevery=50)\n",
    "    plt.xlabel('Number Timesteps')\n",
    "    plt.ylabel(r'Fequency Stability')\n",
    "    plt.xticks(np.arange(0, 40001, 10000))\n",
    "    plt.yticks(np.arange(0,1.1,0.2))\n",
    "    plt.xlim(-2000, 42000)\n",
    "    plt.grid(linestyle='dotted')\n",
    "    plt.legend(frameon=False)\n",
    "    if path_savefig:\n",
    "        plt.savefig(path_savefig, bbox_inches='tight')\n",
    "    return fig"
   ]
  },
  {
   "cell_type": "code",
   "execution_count": 12,
   "metadata": {},
   "outputs": [],
   "source": [
    "def plot_relative_cost(interpolate_costs, path_savefig: Optional = None):\n",
    "    fig = plt.figure(figsize=(2.2, 1.2))\n",
    "    median = np.nanmedian(interpolate_costs.numpy(), axis=0)[::10]\n",
    "    p_lower = np.nanpercentile(interpolate_costs.numpy(), q=2, axis=0)[::10]\n",
    "    p_upper = np.nanpercentile(interpolate_costs.numpy(), q=98, axis=0)[::10]\n",
    "    plt.plot(torch.linspace(0,40000,13), median, \n",
    "             marker='>', markersize=3, linestyle='dashed', label='GIBO', markevery=2)\n",
    "    plt.fill_between(torch.linspace(0,40000,13), p_lower, p_upper, alpha=0.3)\n",
    "    plt.plot(40000, 8*10**(-2),'bo', color='black', label='LSPI', markersize=2, markevery=50)\n",
    "    plt.plot(40000, 6*10**(-2),'rx', color='red', label='ARS', markersize=3, markevery=50)\n",
    "    plt.yscale('log')\n",
    "    plt.ylim(10e-3, 10)\n",
    "    plt.xlim(0, 42000)\n",
    "    plt.xlabel('Number Timesteps')\n",
    "    plt.ylabel('Relative Cost')\n",
    "    plt.xticks(range(0, 40001, 10000))\n",
    "    plt.grid(linestyle='dotted')\n",
    "    #plt.legend(frameon=False)\n",
    "    if path_savefig:\n",
    "        plt.savefig(path_savefig, bbox_inches='tight')\n",
    "    return fig"
   ]
  },
  {
   "cell_type": "code",
   "execution_count": 13,
   "metadata": {},
   "outputs": [
    {
     "name": "stderr",
     "output_type": "stream",
     "text": [
      "[2021-11-24 20:15:00,321] Making new env: lqr-v0\n",
      "/home/sarah/miniconda3/envs/bga/lib/python3.8/site-packages/gym/envs/registration.py:17: PkgResourcesDeprecationWarning: Parameters to load are deprecated.  Call .resolve and .require separately.\n",
      "  result = entry_point.load(False)\n"
     ]
    }
   ],
   "source": [
    "env = gym.make('lqr-v0')\n",
    "A, B, Q, R = env.get_params()\n",
    "K, P, eigVals = dlqr(A, B, Q, R)\n",
    "W = np.eye(3)"
   ]
  },
  {
   "cell_type": "code",
   "execution_count": 14,
   "metadata": {},
   "outputs": [],
   "source": [
    "stability = stability_analysis(parameters, A, B)"
   ]
  },
  {
   "cell_type": "code",
   "execution_count": 15,
   "metadata": {},
   "outputs": [],
   "source": [
    "interpolate_stability = postprocessing_interpolate_x(stability,\n",
    "                                                     calls,\n",
    "                                                     max_calls=130)"
   ]
  },
  {
   "cell_type": "code",
   "execution_count": 16,
   "metadata": {},
   "outputs": [
    {
     "data": {
      "image/png": "[encoded data removed]",
      "text/plain": [
       "<Figure size 158.4x86.4 with 1 Axes>"
      ]
     },
     "metadata": {},
     "output_type": "display_data"
    }
   ],
   "source": [
    "plot_frequency_of_stability(interpolate_stability, \n",
    "                            path_savefig = None); #'../experiments/lqr/10152021/lqr_frequency_stability.pdf'"
   ]
  },
  {
   "cell_type": "code",
   "execution_count": 17,
   "metadata": {},
   "outputs": [],
   "source": [
    "relative_costs = get_relative_costs(parameters, stability, A, B, W, R, P)"
   ]
  },
  {
   "cell_type": "code",
   "execution_count": 18,
   "metadata": {},
   "outputs": [],
   "source": [
    "interpolate_costs = postprocessing_interpolate_x(relative_costs, calls, max_calls=130)"
   ]
  },
  {
   "cell_type": "code",
   "execution_count": 20,
   "metadata": {},
   "outputs": [
    {
     "name": "stderr",
     "output_type": "stream",
     "text": [
      "/home/sarah/miniconda3/envs/bga/lib/python3.8/site-packages/numpy/lib/nanfunctions.py:1113: RuntimeWarning: All-NaN slice encountered\n",
      "  r, k = function_base._ureduce(a, func=_nanmedian, axis=axis, out=out,\n",
      "/home/sarah/miniconda3/envs/bga/lib/python3.8/site-packages/numpy/lib/nanfunctions.py:1389: RuntimeWarning: All-NaN slice encountered\n",
      "  result = np.apply_along_axis(_nanquantile_1d, axis, a, q,\n"
     ]
    },
    {
     "data": {
      "image/png": "[encoded data removed]",
      "text/plain": [
       "<Figure size 158.4x86.4 with 1 Axes>"
      ]
     },
     "metadata": {},
     "output_type": "display_data"
    }
   ],
   "source": [
    "plot_relative_cost(interpolate_costs, \n",
    "                   path_savefig=None); #'../experiments/lqr/10152021/lqr_relative_error.pdf'"
   ]
  },
  {
   "cell_type": "code",
   "execution_count": null,
   "metadata": {},
   "outputs": [],
   "source": []
  }
 ],
 "metadata": {
  "kernelspec": {
   "display_name": "Python [conda env:bga] *",
   "language": "python",
   "name": "conda-env-bga-py"
  },
  "language_info": {
   "codemirror_mode": {
    "name": "ipython",
    "version": 3
   },
   "file_extension": ".py",
   "mimetype": "text/x-python",
   "name": "python",
   "nbconvert_exporter": "python",
   "pygments_lexer": "ipython3",
   "version": "3.8.5"
  }
 },
 "nbformat": 4,
 "nbformat_minor": 4
}
