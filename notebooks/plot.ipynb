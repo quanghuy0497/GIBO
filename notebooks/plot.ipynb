{
 "cells": [
  {
   "cell_type": "code",
   "execution_count": 110,
   "metadata": {},
   "outputs": [],
   "source": [
    "from typing import Tuple, Dict, Callable, Iterator, Union, Optional, List\n",
    "import numpy as np\n",
    "import yaml\n",
    "import matplotlib.pyplot as plt\n",
    "import os\n",
    "import sys\n",
    "import cloudpickle\n",
    "import time\n",
    "\n",
    "module_path = os.path.abspath(os.path.join('..'))\n",
    "if module_path not in sys.path:\n",
    "    sys.path.append(module_path)\n",
    "\n",
    "from src.evaluate import (\n",
    "    sort_rewards_global_optimization, \n",
    "    postprocessing_interpolation_rewards, \n",
    "    f_max_new\n",
    ")\n",
    "\n",
    "import matplotlib.ticker as ticker\n",
    "\n",
    "import matplotlib.pyplot as plt\n"
   ]
  },
  {
   "cell_type": "code",
   "execution_count": 111,
   "metadata": {},
   "outputs": [
    {
     "name": "stdout",
     "output_type": "stream",
     "text": [
      "(101,)\n"
     ]
    }
   ],
   "source": [
    "import torch\n",
    "class cybenko():\n",
    "    def __init__(self, n_dim = 1):\n",
    "        self.n_dim = n_dim\n",
    "        self.n_obj = 2\n",
    "        self.nadir_point = [1, 1]\n",
    "       \n",
    "    def evaluate(self, x):        \n",
    "        n = x.shape[1]\n",
    "        \n",
    "        f1 = 1 - torch.exp(-torch.sum((x - 1 / np.sqrt(n))**2, axis = 1))\n",
    "        f2 = 1 - torch.exp(-torch.sum((x + 1 / np.sqrt(n))**2, axis = 1))\n",
    "     \n",
    "        objs = torch.stack([f1,f2]).T\n",
    "        \n",
    "        return objs\n",
    "    \n",
    "pb = cybenko()\n",
    "x = np.linspace(-1, 1, 101)\n",
    "print(x.shape)\n",
    "x = torch.from_numpy(x).unsqueeze(1)\n",
    "truth = pb.evaluate(x).numpy()"
   ]
  },
  {
   "cell_type": "code",
   "execution_count": 112,
   "metadata": {},
   "outputs": [],
   "source": [
    "def postprocess_data(configs: List[str], \n",
    "                    experiment_path: int,\n",
    "                    dim: List[int],\n",
    "                    name: str=\"\",\n",
    "                    sort_rewards: bool = True,\n",
    "                    interpolate: bool = True, \n",
    "                    max_new: bool = True):\n",
    "\n",
    "    method_to_name = {'gibo': 'GIBO'}\n",
    "    \n",
    "    for cfg_str in configs:\n",
    "\n",
    "        with open(cfg_str, 'r') as f:\n",
    "            cfg = yaml.load(f, Loader=yaml.Loader)\n",
    "\n",
    "        directory = '.'+ cfg['out_dir']\n",
    "        # print(cfg['out_dir'])\n",
    "\n",
    "    fx_dict = {}\n",
    "    fx_min_dict = {}\n",
    "    fx_truth_dict = {}\n",
    "    x_dict = {}\n",
    "    for d in dim:\n",
    "        fx_dict[d] = np.load(os.path.join(directory, 'fx_'+str(d)+ name +'.npy'), allow_pickle=True)\n",
    "        x_dict[d] = np.load(os.path.join(directory, 'x_'+str(d)+ name +'.npy'), allow_pickle=True)\n",
    "\n",
    "        \n",
    "    return x_dict, fx_dict"
   ]
  },
  {
   "cell_type": "code",
   "execution_count": 113,
   "metadata": {},
   "outputs": [
    {
     "data": {
      "image/png": "[encoded data removed]",
      "text/plain": [
       "<Figure size 640x480 with 1 Axes>"
      ]
     },
     "metadata": {},
     "output_type": "display_data"
    }
   ],
   "source": [
    "dim = [5, 10]\n",
    "(x_dict, fx_dict) = postprocess_data(\n",
    "                            configs=['../configs/toys/gibo_default.yaml'],\n",
    "                            experiment_path='../experiments/toys/test_experiment/', \n",
    "                            dim = dim,\n",
    "                            name = \"\")\n",
    "nadir = 1.0 * torch.ones(10)\n",
    "f_nadir = pb.evaluate(nadir.unsqueeze(0)).squeeze().numpy()\n",
    "x = torch.from_numpy(x_dict[10][0])\n",
    "f_x = pb.evaluate(x).numpy()\n",
    "plt.xlabel(\"f1(x)\")\n",
    "plt.ylabel(\"f2(x)\")\n",
    "plt.plot(truth[:, 0], truth[:, 1], color='blue', label=\"Truth Pareto Front\")\n",
    "plt.plot(f_x[:, 0], f_x[:, 1], color='red', label=\"GIBO\")\n",
    "plt.scatter(f_nadir[0], f_nadir[1], facecolor ='red', s = 5)\n",
    "plt.scatter(truth[50, 0], truth[50, 1], label=\"Target\", facecolor ='green', marker=(5, 1), s = 100)\n",
    "plt.legend(bbox_to_anchor=(0.40,0.25))\n",
    "plt.show()"
   ]
  }
 ],
 "metadata": {
  "kernelspec": {
   "display_name": "gibo",
   "language": "python",
   "name": "python3"
  },
  "language_info": {
   "codemirror_mode": {
    "name": "ipython",
    "version": 3
   },
   "file_extension": ".py",
   "mimetype": "text/x-python",
   "name": "python",
   "nbconvert_exporter": "python",
   "pygments_lexer": "ipython3",
   "version": "3.8.5"
  },
  "orig_nbformat": 4,
  "vscode": {
   "interpreter": {
    "hash": "b9ecf46e75b75e536d7064414588b5dd7967d8f0a5187753db77f14b16d47047"
   }
  }
 },
 "nbformat": 4,
 "nbformat_minor": 2
}
